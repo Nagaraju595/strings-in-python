{
 "cells": [
  {
   "cell_type": "markdown",
   "id": "3e1c6bce",
   "metadata": {},
   "source": [
    "# what is string in python?\n",
    "Strings are contiguous series of characters enclosed in single or double quotes. Python doesn’t have any separate data type for characters so they are represented as a single character string. \n",
    "\n",
    "For eg: \n",
    "\n",
    ">>> s_name = “Amit” # s_name is a variable storing a string.  \n",
    "\n",
    ">>>s = ‘a’  #String can also be enclosed in single  quotes"
   ]
  }
 ],
 "metadata": {
  "kernelspec": {
   "display_name": "Python 3 (ipykernel)",
   "language": "python",
   "name": "python3"
  },
  "language_info": {
   "codemirror_mode": {
    "name": "ipython",
    "version": 3
   },
   "file_extension": ".py",
   "mimetype": "text/x-python",
   "name": "python",
   "nbconvert_exporter": "python",
   "pygments_lexer": "ipython3",
   "version": "3.9.7"
  }
 },
 "nbformat": 4,
 "nbformat_minor": 5
}
